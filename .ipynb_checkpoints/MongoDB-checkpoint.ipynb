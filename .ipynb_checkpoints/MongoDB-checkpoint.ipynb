{
 "cells": [
  {
   "cell_type": "code",
   "execution_count": 1,
   "metadata": {},
   "outputs": [],
   "source": [
    "import pymongo\n",
    "from pymongo import MongoClient\n",
    "import csv\n",
    "import json\n",
    "import pandas as pd\n",
    "import scrapy\n",
    "import quandl\n",
    "import numpy as np\n",
    "import seaborn as sns\n",
    "import matplotlib.pyplot as plt\n",
    "import matplotlib\n",
    "from matplotlib import rc"
   ]
  },
  {
   "cell_type": "code",
   "execution_count": 2,
   "metadata": {},
   "outputs": [],
   "source": [
    "# matplotlib setting\n",
    "\n",
    "font_name = \"NanumGothic\"\n",
    "\n",
    "matplotlib.rc('font',family=font_name) # 한글 폰트 설정\n",
    "\n",
    "pd.set_option('display.float_format', '{:.1f}'.format) # 항상 float 형식으로, 자릿수 0.1\n",
    "\n",
    "matplotlib.rcParams['pdf.fonttype'] = 42\n",
    "\n",
    "matplotlib.rcParams['ps.fonttype'] = 42\n",
    "\n",
    "matplotlib.rcParams['axes.unicode_minus'] = False \n",
    "\n",
    "matplotlib.rcParams['grid.color'] = 'grey'\n",
    "\n",
    "matplotlib.rcParams['grid.linestyle'] = '-'\n",
    "\n",
    "matplotlib.rcParams['grid.linewidth'] = 0.5"
   ]
  },
  {
   "cell_type": "code",
   "execution_count": 3,
   "metadata": {
    "scrolled": true
   },
   "outputs": [
    {
     "data": {
      "text/plain": [
       "Index(['Date', 'Positive', 'EndQuarantine', 'UnderQuarantine', 'Death',\n",
       "       'UnderExamination', 'Negative', 'Total'],\n",
       "      dtype='object')"
      ]
     },
     "execution_count": 3,
     "metadata": {},
     "output_type": "execute_result"
    }
   ],
   "source": [
    "data = pd.read_csv(\"국내 신고 및 검사 현황.csv\")\n",
    "data[\"Total\"] = data[[\"Positive\", \"UnderExamination\", \"Negative\"]].sum(axis = 1)\n",
    "data[\"Month\"] = data[\"Date\"].str.findall('\\d+').str[0]\n",
    "data[\"Day\"] = data[\"Date\"].str.findall('\\d+').str[1]\n",
    "data[\"Hour\"] = data[\"Date\"].str.findall('\\d+').str[2]\n",
    "data[\"Date\"] = pd.to_datetime({\"year\" : \"2020\", \"month\" : data[\"Month\"], \"day\" : data[\"Day\"], \"hour\" : data[\"Hour\"]})\n",
    "data = data.drop_duplicates()\n",
    "data = data.replace(np.nan, 0)\n",
    "data = data.sort_values(by = \"Date\")\n",
    "data = data[['Date', 'Positive', 'EndQuarantine', 'UnderQuarantine', 'Death',\n",
    "       'UnderExamination', 'Negative', 'Total']]\n",
    "data.columns"
   ]
  },
  {
   "cell_type": "code",
   "execution_count": 25,
   "metadata": {
    "scrolled": true
   },
   "outputs": [
    {
     "data": {
      "text/plain": [
       "Collection(Database(MongoClient(host=['192.168.0.2:27017'], document_class=dict, tz_aware=False, connect=True), 'domestic_reports'), 'check')"
      ]
     },
     "execution_count": 25,
     "metadata": {},
     "output_type": "execute_result"
    }
   ],
   "source": [
    "client = pymongo.MongoClient('mongodb://%s:%s@192.168.0.2' % (\"vanillapapaya\", \"qhans7810!\"), 27017)\n",
    "db = client.domestic_reports\n",
    "db.check"
   ]
  },
  {
   "cell_type": "code",
   "execution_count": 35,
   "metadata": {
    "scrolled": false
   },
   "outputs": [],
   "source": [
    "data.reset_index(inplace=True)\n",
    "data.drop(\"index\", axis = 1, inplace = True)\n",
    "for i in range(0, len(data)) :\n",
    "    data_dict = data.loc[i].to_dict()\n",
    "#    data_dict = {k: \"{}\".format(v) for k,v in data_dict.items()}\n",
    "#    db.check.insert_one(data_dict)\n",
    "    \n",
    "    try:\n",
    "        db.check.insert_one(data_dict)\n",
    "    \n",
    "    except pymongo.errors.InvalidDocument:\n",
    "        n = {}\n",
    "        for k, v in data_dict.items():\n",
    "            if isinstance(v, np.int64):\n",
    "                v = int(v)\n",
    "            n[k] = v\n",
    "        db.check.insert_one(n)"
   ]
  },
  {
   "cell_type": "code",
   "execution_count": 36,
   "metadata": {
    "scrolled": true
   },
   "outputs": [
    {
     "data": {
      "text/plain": [
       "62"
      ]
     },
     "execution_count": 36,
     "metadata": {},
     "output_type": "execute_result"
    }
   ],
   "source": [
    "db.check.count_documents({})"
   ]
  },
  {
   "cell_type": "markdown",
   "metadata": {},
   "source": [
    "#### === Run this code if you want to insert one document ==="
   ]
  },
  {
   "cell_type": "raw",
   "metadata": {},
   "source": [
    "db.check.insert_one(\n",
    "{\n",
    "    'Date' : \"2020-03-23 00:00:00\",\n",
    "    'Total' : 338036,\n",
    "    'Positive' : 8961,\n",
    "    'End Quarantine' : 3166,\n",
    "    'Under Quarantine' : 5684,\n",
    "    'Death' : 111,\n",
    "    'Under Examination' : 13628,\n",
    "    'Negative' : '15447\n",
    "}\n",
    ")"
   ]
  },
  {
   "cell_type": "code",
   "execution_count": 38,
   "metadata": {},
   "outputs": [
    {
     "data": {
      "text/html": [
       "<div>\n",
       "<style scoped>\n",
       "    .dataframe tbody tr th:only-of-type {\n",
       "        vertical-align: middle;\n",
       "    }\n",
       "\n",
       "    .dataframe tbody tr th {\n",
       "        vertical-align: top;\n",
       "    }\n",
       "\n",
       "    .dataframe thead th {\n",
       "        text-align: right;\n",
       "    }\n",
       "</style>\n",
       "<table border=\"1\" class=\"dataframe\">\n",
       "  <thead>\n",
       "    <tr style=\"text-align: right;\">\n",
       "      <th></th>\n",
       "      <th>_id</th>\n",
       "      <th>Date</th>\n",
       "      <th>Positive</th>\n",
       "      <th>EndQuarantine</th>\n",
       "      <th>UnderQuarantine</th>\n",
       "      <th>Death</th>\n",
       "      <th>UnderExamination</th>\n",
       "      <th>Negative</th>\n",
       "      <th>Total</th>\n",
       "    </tr>\n",
       "  </thead>\n",
       "  <tbody>\n",
       "    <tr>\n",
       "      <td>0</td>\n",
       "      <td>5e7e1593e54155ca94935259</td>\n",
       "      <td>2020-01-21</td>\n",
       "      <td>1</td>\n",
       "      <td>0</td>\n",
       "      <td>1</td>\n",
       "      <td>0</td>\n",
       "      <td>3</td>\n",
       "      <td>7</td>\n",
       "      <td>8</td>\n",
       "    </tr>\n",
       "    <tr>\n",
       "      <td>1</td>\n",
       "      <td>5e7e1593e54155ca9493525a</td>\n",
       "      <td>2020-01-24</td>\n",
       "      <td>2</td>\n",
       "      <td>0</td>\n",
       "      <td>2</td>\n",
       "      <td>0</td>\n",
       "      <td>0</td>\n",
       "      <td>25</td>\n",
       "      <td>27</td>\n",
       "    </tr>\n",
       "    <tr>\n",
       "      <td>2</td>\n",
       "      <td>5e7e1593e54155ca9493525b</td>\n",
       "      <td>2020-01-26</td>\n",
       "      <td>3</td>\n",
       "      <td>0</td>\n",
       "      <td>3</td>\n",
       "      <td>0</td>\n",
       "      <td>1</td>\n",
       "      <td>47</td>\n",
       "      <td>50</td>\n",
       "    </tr>\n",
       "    <tr>\n",
       "      <td>3</td>\n",
       "      <td>5e7e1593e54155ca9493525c</td>\n",
       "      <td>2020-01-27</td>\n",
       "      <td>4</td>\n",
       "      <td>0</td>\n",
       "      <td>4</td>\n",
       "      <td>0</td>\n",
       "      <td>1</td>\n",
       "      <td>56</td>\n",
       "      <td>60</td>\n",
       "    </tr>\n",
       "    <tr>\n",
       "      <td>4</td>\n",
       "      <td>5e7e1593e54155ca9493525d</td>\n",
       "      <td>2020-01-30</td>\n",
       "      <td>6</td>\n",
       "      <td>0</td>\n",
       "      <td>6</td>\n",
       "      <td>0</td>\n",
       "      <td>41</td>\n",
       "      <td>199</td>\n",
       "      <td>205</td>\n",
       "    </tr>\n",
       "    <tr>\n",
       "      <td>...</td>\n",
       "      <td>...</td>\n",
       "      <td>...</td>\n",
       "      <td>...</td>\n",
       "      <td>...</td>\n",
       "      <td>...</td>\n",
       "      <td>...</td>\n",
       "      <td>...</td>\n",
       "      <td>...</td>\n",
       "      <td>...</td>\n",
       "    </tr>\n",
       "    <tr>\n",
       "      <td>57</td>\n",
       "      <td>5e7e1593e54155ca94935292</td>\n",
       "      <td>2020-03-19</td>\n",
       "      <td>8565</td>\n",
       "      <td>1947</td>\n",
       "      <td>6527</td>\n",
       "      <td>91</td>\n",
       "      <td>15904</td>\n",
       "      <td>282555</td>\n",
       "      <td>291120</td>\n",
       "    </tr>\n",
       "    <tr>\n",
       "      <td>58</td>\n",
       "      <td>5e7e1593e54155ca94935293</td>\n",
       "      <td>2020-03-20</td>\n",
       "      <td>8652</td>\n",
       "      <td>2233</td>\n",
       "      <td>6325</td>\n",
       "      <td>94</td>\n",
       "      <td>15525</td>\n",
       "      <td>292487</td>\n",
       "      <td>301139</td>\n",
       "    </tr>\n",
       "    <tr>\n",
       "      <td>59</td>\n",
       "      <td>5e7e1593e54155ca94935294</td>\n",
       "      <td>2020-03-21</td>\n",
       "      <td>8799</td>\n",
       "      <td>2612</td>\n",
       "      <td>6085</td>\n",
       "      <td>102</td>\n",
       "      <td>15704</td>\n",
       "      <td>303006</td>\n",
       "      <td>311805</td>\n",
       "    </tr>\n",
       "    <tr>\n",
       "      <td>60</td>\n",
       "      <td>5e7e1593e54155ca94935295</td>\n",
       "      <td>2020-03-22</td>\n",
       "      <td>8897</td>\n",
       "      <td>2909</td>\n",
       "      <td>5884</td>\n",
       "      <td>104</td>\n",
       "      <td>14540</td>\n",
       "      <td>308343</td>\n",
       "      <td>317240</td>\n",
       "    </tr>\n",
       "    <tr>\n",
       "      <td>61</td>\n",
       "      <td>5e7e1593e54155ca94935296</td>\n",
       "      <td>2020-03-23</td>\n",
       "      <td>8961</td>\n",
       "      <td>3166</td>\n",
       "      <td>5684</td>\n",
       "      <td>111</td>\n",
       "      <td>13,628</td>\n",
       "      <td>315447</td>\n",
       "      <td>324408</td>\n",
       "    </tr>\n",
       "  </tbody>\n",
       "</table>\n",
       "<p>62 rows × 9 columns</p>\n",
       "</div>"
      ],
      "text/plain": [
       "                         _id       Date  Positive  EndQuarantine  \\\n",
       "0   5e7e1593e54155ca94935259 2020-01-21         1              0   \n",
       "1   5e7e1593e54155ca9493525a 2020-01-24         2              0   \n",
       "2   5e7e1593e54155ca9493525b 2020-01-26         3              0   \n",
       "3   5e7e1593e54155ca9493525c 2020-01-27         4              0   \n",
       "4   5e7e1593e54155ca9493525d 2020-01-30         6              0   \n",
       "..                       ...        ...       ...            ...   \n",
       "57  5e7e1593e54155ca94935292 2020-03-19      8565           1947   \n",
       "58  5e7e1593e54155ca94935293 2020-03-20      8652           2233   \n",
       "59  5e7e1593e54155ca94935294 2020-03-21      8799           2612   \n",
       "60  5e7e1593e54155ca94935295 2020-03-22      8897           2909   \n",
       "61  5e7e1593e54155ca94935296 2020-03-23      8961           3166   \n",
       "\n",
       "    UnderQuarantine  Death UnderExamination  Negative   Total  \n",
       "0                 1      0                3         7       8  \n",
       "1                 2      0                0        25      27  \n",
       "2                 3      0                1        47      50  \n",
       "3                 4      0                1        56      60  \n",
       "4                 6      0               41       199     205  \n",
       "..              ...    ...              ...       ...     ...  \n",
       "57             6527     91            15904    282555  291120  \n",
       "58             6325     94            15525    292487  301139  \n",
       "59             6085    102            15704    303006  311805  \n",
       "60             5884    104            14540    308343  317240  \n",
       "61             5684    111           13,628    315447  324408  \n",
       "\n",
       "[62 rows x 9 columns]"
      ]
     },
     "execution_count": 38,
     "metadata": {},
     "output_type": "execute_result"
    }
   ],
   "source": [
    "data_from_db = db.check.find({})\n",
    "df = pd.DataFrame(data_from_db)\n",
    "#df.set_index(\"Date\",inplace=True)\n",
    "df"
   ]
  },
  {
   "cell_type": "code",
   "execution_count": 43,
   "metadata": {
    "scrolled": false
   },
   "outputs": [
    {
     "data": {
      "text/plain": [
       "<matplotlib.axes._subplots.AxesSubplot at 0x7fd11c3aeb10>"
      ]
     },
     "execution_count": 43,
     "metadata": {},
     "output_type": "execute_result"
    },
    {
     "data": {
      "image/png": "[encoded data removed]",
      "text/plain": [
       "<Figure size 432x288 with 1 Axes>"
      ]
     },
     "metadata": {
      "needs_background": "light"
     },
     "output_type": "display_data"
    }
   ],
   "source": [
    "sns.barplot(data = df, x = \"Date\", y = \"Death\")"
   ]
  },
  {
   "cell_type": "code",
   "execution_count": 33,
   "metadata": {
    "scrolled": true
   },
   "outputs": [
    {
     "name": "stderr",
     "output_type": "stream",
     "text": [
      "/home/vanillapapaya/anaconda3/lib/python3.7/site-packages/ipykernel_launcher.py:1: DeprecationWarning: remove is deprecated. Use delete_one or delete_many instead.\n",
      "  \"\"\"Entry point for launching an IPython kernel.\n"
     ]
    },
    {
     "data": {
      "text/plain": [
       "{'n': 62, 'ok': 1.0}"
      ]
     },
     "execution_count": 33,
     "metadata": {},
     "output_type": "execute_result"
    }
   ],
   "source": [
    "db.check.remove()"
   ]
  },
  {
   "cell_type": "code",
   "execution_count": null,
   "metadata": {},
   "outputs": [],
   "source": []
  }
 ],
 "metadata": {
  "kernelspec": {
   "display_name": "Python 3",
   "language": "python",
   "name": "python3"
  },
  "language_info": {
   "codemirror_mode": {
    "name": "ipython",
    "version": 3
   },
   "file_extension": ".py",
   "mimetype": "text/x-python",
   "name": "python",
   "nbconvert_exporter": "python",
   "pygments_lexer": "ipython3",
   "version": "3.7.4"
  }
 },
 "nbformat": 4,
 "nbformat_minor": 2
}

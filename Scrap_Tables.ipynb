{
 "cells": [
  {
   "cell_type": "code",
   "execution_count": 1,
   "metadata": {},
   "outputs": [],
   "source": [
    "import bs4 as bs\n",
    "import urllib.request\n",
    "import pandas as pd\n",
    "import re\n",
    "import datetime\n",
    "import pymysql"
   ]
  },
  {
   "cell_type": "markdown",
   "metadata": {},
   "source": [
    "### 1. Data Scraping "
   ]
  },
  {
   "cell_type": "markdown",
   "metadata": {},
   "source": [
    "#### url 입력 (자료가 있는 정례브리핑 url 주소 입력)"
   ]
  },
  {
   "cell_type": "code",
   "execution_count": 16,
   "metadata": {},
   "outputs": [
    {
     "name": "stdout",
     "output_type": "stream",
     "text": [
      "http://ncov.mohw.go.kr/tcmBoardView.do?brdId=&brdGubun=&dataGubun=&ncvContSeq=354284&contSeq=354284&board_id=&gubun=ALL\n"
     ]
    }
   ],
   "source": [
    "url = urllib.request.urlopen(input()).read()\n",
    "#soup = bs.BeautifulSoup(url, 'lxml')"
   ]
  },
  {
   "cell_type": "markdown",
   "metadata": {},
   "source": [
    "#### pandas를 이용한 table scraping"
   ]
  },
  {
   "cell_type": "code",
   "execution_count": 17,
   "metadata": {
    "scrolled": true
   },
   "outputs": [],
   "source": [
    "dfs = pd.read_html(url, encoding = \"utf-8\", header=0)"
   ]
  },
  {
   "cell_type": "markdown",
   "metadata": {},
   "source": [
    "#### 들쑥날쑥한 Column 수를 맞춰주기 위한 추가 코드"
   ]
  },
  {
   "cell_type": "code",
   "execution_count": 18,
   "metadata": {
    "scrolled": true
   },
   "outputs": [
    {
     "data": {
      "text/html": [
       "<div>\n",
       "<style scoped>\n",
       "    .dataframe tbody tr th:only-of-type {\n",
       "        vertical-align: middle;\n",
       "    }\n",
       "\n",
       "    .dataframe tbody tr th {\n",
       "        vertical-align: top;\n",
       "    }\n",
       "\n",
       "    .dataframe thead th {\n",
       "        text-align: right;\n",
       "    }\n",
       "</style>\n",
       "<table border=\"1\" class=\"dataframe\">\n",
       "  <thead>\n",
       "    <tr style=\"text-align: right;\">\n",
       "      <th></th>\n",
       "      <th>구분.1</th>\n",
       "      <th>총계</th>\n",
       "      <th>결과 양성</th>\n",
       "      <th>결과 양성.1</th>\n",
       "      <th>결과 양성.2</th>\n",
       "      <th>결과 양성.3</th>\n",
       "      <th>검사 중</th>\n",
       "      <th>결과 음성</th>\n",
       "    </tr>\n",
       "  </thead>\n",
       "  <tbody>\n",
       "    <tr>\n",
       "      <td>0</td>\n",
       "      <td>구분</td>\n",
       "      <td>총계</td>\n",
       "      <td>확진자</td>\n",
       "      <td>격리해제</td>\n",
       "      <td>격리 중</td>\n",
       "      <td>사망</td>\n",
       "      <td>검사 중</td>\n",
       "      <td>결과 음성</td>\n",
       "    </tr>\n",
       "    <tr>\n",
       "      <td>1</td>\n",
       "      <td>4. 28.(화)  0시 기준</td>\n",
       "      <td>608514</td>\n",
       "      <td>10752</td>\n",
       "      <td>8854</td>\n",
       "      <td>1654</td>\n",
       "      <td>244</td>\n",
       "      <td>9203</td>\n",
       "      <td>588559</td>\n",
       "    </tr>\n",
       "    <tr>\n",
       "      <td>2</td>\n",
       "      <td>4. 29.(수)  0시 기준</td>\n",
       "      <td>614197</td>\n",
       "      <td>10761</td>\n",
       "      <td>8922</td>\n",
       "      <td>1593</td>\n",
       "      <td>246</td>\n",
       "      <td>8307</td>\n",
       "      <td>595129</td>\n",
       "    </tr>\n",
       "    <tr>\n",
       "      <td>3</td>\n",
       "      <td>변동</td>\n",
       "      <td>(+)5,683</td>\n",
       "      <td>(+)9</td>\n",
       "      <td>(+)68</td>\n",
       "      <td>(-)61</td>\n",
       "      <td>(+)2</td>\n",
       "      <td>(-)896</td>\n",
       "      <td>(+)6,570</td>\n",
       "    </tr>\n",
       "  </tbody>\n",
       "</table>\n",
       "</div>"
      ],
      "text/plain": [
       "               구분.1        총계  결과 양성 결과 양성.1 결과 양성.2 결과 양성.3    검사 중     결과 음성\n",
       "0                구분        총계    확진자    격리해제    격리 중      사망    검사 중     결과 음성\n",
       "1  4. 28.(화)  0시 기준    608514  10752    8854    1654     244    9203    588559\n",
       "2  4. 29.(수)  0시 기준    614197  10761    8922    1593     246    8307    595129\n",
       "3                변동  (+)5,683   (+)9   (+)68   (-)61    (+)2  (-)896  (+)6,570"
      ]
     },
     "execution_count": 18,
     "metadata": {},
     "output_type": "execute_result"
    }
   ],
   "source": [
    "if len(dfs[0].columns) == 9 :\n",
    "    dfs[0].drop(columns=dfs[0].columns[0], inplace = True)\n",
    "    \n",
    "dfs[0]"
   ]
  },
  {
   "cell_type": "markdown",
   "metadata": {},
   "source": [
    "#### domestic_check table에 들어갈 내용 scraping"
   ]
  },
  {
   "cell_type": "code",
   "execution_count": 19,
   "metadata": {},
   "outputs": [
    {
     "data": {
      "text/plain": [
       "['2020-04-29', 614197, 10761, 8922, 1593, 246, 8307, 595129, 9, 68]"
      ]
     },
     "execution_count": 19,
     "metadata": {},
     "output_type": "execute_result"
    }
   ],
   "source": [
    "column = dfs[0].columns\n",
    "date = dfs[0][column[0]][2]\n",
    "regex = re.compile(r'\\d.')\n",
    "date_group = regex.findall(date)\n",
    "\n",
    "for i in range(0, len(date_group)):\n",
    "    date_group[i] = int(re.sub(\"[^\\d]\", \"\", date_group[i]))\n",
    "    \n",
    "report_day = datetime.datetime(2020,date_group[0],date_group[1])\n",
    "report_day_str = report_day.strftime('%Y-%m-%d')\n",
    "\n",
    "check = []\n",
    "\n",
    "for i in range(1, 8):\n",
    "    check.append(int(dfs[0][column[i]][2]))\n",
    "check.append(int(dfs[0][column[2]][3].replace(\"(+)\", \"\")\\\n",
    "                                          .replace(\"(-)\", \"-\")\\\n",
    "                                          .replace(\",\", \"\")))\n",
    "check.append(int(dfs[0][column[3]][3].replace(\"(+)\", \"\")\\\n",
    "                                          .replace(\"(-)\", \"-\")\\\n",
    "                                          .replace(\",\", \"\")))\n",
    "check.insert(0, report_day_str)\n",
    "check"
   ]
  },
  {
   "cell_type": "markdown",
   "metadata": {},
   "source": [
    "#### domestic_sid table에 들어갈 내용 scraping"
   ]
  },
  {
   "cell_type": "code",
   "execution_count": 20,
   "metadata": {
    "scrolled": true
   },
   "outputs": [
    {
     "data": {
      "text/plain": [
       "[['2020-04-29',\n",
       "  'under quarantine',\n",
       "  1593,\n",
       "  194,\n",
       "  18,\n",
       "  606,\n",
       "  27,\n",
       "  4,\n",
       "  5,\n",
       "  5,\n",
       "  10,\n",
       "  180,\n",
       "  14,\n",
       "  5,\n",
       "  20,\n",
       "  8,\n",
       "  5,\n",
       "  180,\n",
       "  20,\n",
       "  5,\n",
       "  287],\n",
       " ['2020-04-29',\n",
       "  'end quarantine',\n",
       "  8922,\n",
       "  437,\n",
       "  116,\n",
       "  6075,\n",
       "  66,\n",
       "  26,\n",
       "  35,\n",
       "  37,\n",
       "  36,\n",
       "  481,\n",
       "  37,\n",
       "  40,\n",
       "  123,\n",
       "  10,\n",
       "  10,\n",
       "  1133,\n",
       "  97,\n",
       "  8,\n",
       "  155],\n",
       " ['2020-04-29',\n",
       "  'death',\n",
       "  246,\n",
       "  2,\n",
       "  3,\n",
       "  171,\n",
       "  0,\n",
       "  0,\n",
       "  0,\n",
       "  1,\n",
       "  0,\n",
       "  15,\n",
       "  2,\n",
       "  0,\n",
       "  0,\n",
       "  0,\n",
       "  0,\n",
       "  52,\n",
       "  0,\n",
       "  0,\n",
       "  0]]"
      ]
     },
     "execution_count": 20,
     "metadata": {},
     "output_type": "execute_result"
    }
   ],
   "source": [
    "column = dfs[1].columns\n",
    "sid = []\n",
    "\n",
    "for i in range(0, 3):\n",
    "    list_temp = []\n",
    "    for j in range(1, len(column)):\n",
    "        list_temp.append(int(dfs[1][column[j]][i]))\n",
    "    if i == 0 : list_temp.insert(0, \"under quarantine\")\n",
    "    elif i == 1 : list_temp.insert(0, \"end quarantine\")\n",
    "    elif i == 2 : list_temp.insert(0, \"death\")\n",
    "    list_temp.insert(0, report_day_str)\n",
    "    sid.append(list_temp)\n",
    "sid"
   ]
  },
  {
   "cell_type": "markdown",
   "metadata": {},
   "source": [
    "#### domestic_group table에 들어갈 내용 scraping"
   ]
  },
  {
   "cell_type": "code",
   "execution_count": 21,
   "metadata": {
    "scrolled": false
   },
   "outputs": [
    {
     "data": {
      "text/plain": [
       "[['2020-04-29', 'Seoul', 633, 252, 357, 8, 262, 18, 69, 24, 0],\n",
       " ['2020-04-29', 'Busan', 137, 24, 84, 12, 53, 18, 1, 29, 0],\n",
       " ['2020-04-29', 'Daegu', 6852, 20, 6108, 4510, 665, 929, 4, 724, 3],\n",
       " ['2020-04-29', 'Incheon', 93, 41, 48, 2, 34, 5, 7, 4, 0],\n",
       " ['2020-04-29', 'Gwangju', 30, 14, 16, 9, 0, 1, 6, 0, 0],\n",
       " ['2020-04-29', 'Daejeon', 40, 10, 21, 2, 11, 8, 0, 9, 0],\n",
       " ['2020-04-29', 'Ulsan', 43, 12, 24, 16, 1, 4, 3, 7, 0],\n",
       " ['2020-04-29', 'Sejong', 46, 3, 42, 1, 38, 3, 0, 1, 0],\n",
       " ['2020-04-29', 'Gyeonggi', 676, 163, 470, 29, 322, 57, 62, 43, 2],\n",
       " ['2020-04-29', 'Gangwon', 53, 14, 32, 17, 15, 0, 0, 7, 0],\n",
       " ['2020-04-29', 'Chungbuk', 45, 5, 32, 6, 18, 6, 2, 8, 0],\n",
       " ['2020-04-29', 'Chungnam', 143, 13, 120, 0, 118, 1, 1, 10, 1],\n",
       " ['2020-04-29', 'Jeonbuk', 18, 9, 4, 1, 3, 0, 0, 5, 0],\n",
       " ['2020-04-29', 'Jeonnam', 15, 7, 5, 1, 1, 2, 1, 3, 0],\n",
       " ['2020-04-29', 'Gyeongbuk', 1365, 10, 1221, 566, 463, 192, 0, 134, 0],\n",
       " ['2020-04-29', 'Gyeongnam', 117, 14, 85, 32, 46, 6, 1, 18, 0],\n",
       " ['2020-04-29', 'Jeju', 13, 8, 1, 0, 0, 0, 1, 4, 0],\n",
       " ['2020-04-29', 'Quarantine', 442, 442, 0, 0, 0, 0, 0, 0, 3]]"
      ]
     },
     "execution_count": 21,
     "metadata": {},
     "output_type": "execute_result"
    }
   ],
   "source": [
    "location = [\"Seoul\", \"Busan\", \"Daegu\", \"Incheon\",\n",
    " \"Gwangju\", \"Daejeon\", \"Ulsan\", \"Sejong\",\n",
    " \"Gyeonggi\", \"Gangwon\", \"Chungbuk\", \"Chungnam\",\n",
    " \"Jeonbuk\", \"Jeonnam\", \"Gyeongbuk\", \"Gyeongnam\", \"Jeju\", \"Quarantine\"]\n",
    "column = dfs[2].columns\n",
    "group = []\n",
    "\n",
    "for i in range(2, 20):\n",
    "    list_temp = []\n",
    "    for j in range(1, 12):\n",
    "        list_temp.append(int(dfs[2][column[j]][i]))\n",
    "    list_temp.insert(0, location[i-2])\n",
    "    list_temp.insert(0, report_day_str)\n",
    "    list_temp.pop(5)\n",
    "    list_temp.pop(10)\n",
    "    group.append(list_temp)\n",
    "group"
   ]
  },
  {
   "cell_type": "markdown",
   "metadata": {},
   "source": [
    "### 2. PYTHON과 MYSQL 연동"
   ]
  },
  {
   "cell_type": "code",
   "execution_count": 22,
   "metadata": {},
   "outputs": [],
   "source": [
    "conn = pymysql.connect(host = '192.168.0.2', user = 'vanillapapaya',\n",
    "                      password = 'qhans7810!', db = 'covid',\n",
    "                      charset = 'utf8')\n",
    "curs = conn.cursor()"
   ]
  },
  {
   "cell_type": "markdown",
   "metadata": {},
   "source": [
    "#### domestic_check에 column 추가"
   ]
  },
  {
   "cell_type": "code",
   "execution_count": 23,
   "metadata": {
    "scrolled": false
   },
   "outputs": [
    {
     "data": {
      "text/plain": [
       "1"
      ]
     },
     "execution_count": 23,
     "metadata": {},
     "output_type": "execute_result"
    }
   ],
   "source": [
    "query = \"\"\"\n",
    "\n",
    "        INSERT INTO domestic_check(Date, Total, Positive, EndQuarantine, UnderQuarantine, Death,\n",
    "                               UnderExamination, Negative, NewPositive, NewEndQuarantine)\n",
    "        VALUES(%s, %s, %s, %s, %s, %s, %s, %s, %s, %s)\n",
    "        \n",
    "\"\"\"\n",
    "\n",
    "curs.execute(query, check)"
   ]
  },
  {
   "cell_type": "markdown",
   "metadata": {},
   "source": [
    "#### domestic_sid에 column 추가"
   ]
  },
  {
   "cell_type": "code",
   "execution_count": 24,
   "metadata": {},
   "outputs": [
    {
     "data": {
      "text/plain": [
       "3"
      ]
     },
     "execution_count": 24,
     "metadata": {},
     "output_type": "execute_result"
    }
   ],
   "source": [
    "query = \"\"\"\n",
    "\n",
    "        INSERT INTO domestic_sid(Date, Type, Total, Seoul, Busan, Daegu, Incheon, Gwangju, Daejeon,\n",
    "                               Ulsan, Sejong, Gyeonggi, Gangwon, Chungbuk, Chungnam, Jeonbuk, Jeonnam,\n",
    "                               Gyeongbuk, Gyeongnam, Jeju, Quarantine)\n",
    "        VALUES(%s, %s, %s, %s, %s, %s, %s, %s, %s, %s, %s, %s, %s, %s, %s, %s, %s, %s, %s, %s, %s)\n",
    "\n",
    "\"\"\"\n",
    "curs.executemany(query, sid)"
   ]
  },
  {
   "cell_type": "markdown",
   "metadata": {},
   "source": [
    "#### domestic_group에 column 추가"
   ]
  },
  {
   "cell_type": "code",
   "execution_count": 25,
   "metadata": {
    "scrolled": true
   },
   "outputs": [
    {
     "data": {
      "text/plain": [
       "18"
      ]
     },
     "execution_count": 25,
     "metadata": {},
     "output_type": "execute_result"
    }
   ],
   "source": [
    "query = \"\"\"\n",
    "\n",
    "        INSERT INTO domestic_group(Date, Location, Total, ForeignInflow, GroupTotal, \n",
    "                                    Shincheonji, GroupCases, PersonsInContact, ForeignGroupInflow, Other, New)\n",
    "        VALUES(%s, %s, %s, %s, %s, %s, %s, %s, %s, %s, %s)\n",
    "\n",
    "\"\"\"\n",
    "curs.executemany(query, group)"
   ]
  },
  {
   "cell_type": "markdown",
   "metadata": {},
   "source": [
    "#### 변경된 내용 확인"
   ]
  },
  {
   "cell_type": "code",
   "execution_count": 26,
   "metadata": {
    "scrolled": true
   },
   "outputs": [
    {
     "data": {
      "text/html": [
       "<div>\n",
       "<style scoped>\n",
       "    .dataframe tbody tr th:only-of-type {\n",
       "        vertical-align: middle;\n",
       "    }\n",
       "\n",
       "    .dataframe tbody tr th {\n",
       "        vertical-align: top;\n",
       "    }\n",
       "\n",
       "    .dataframe thead th {\n",
       "        text-align: right;\n",
       "    }\n",
       "</style>\n",
       "<table border=\"1\" class=\"dataframe\">\n",
       "  <thead>\n",
       "    <tr style=\"text-align: right;\">\n",
       "      <th></th>\n",
       "      <th>index</th>\n",
       "      <th>Date</th>\n",
       "      <th>Location</th>\n",
       "      <th>Total</th>\n",
       "      <th>ForeignInflow</th>\n",
       "      <th>GroupTotal</th>\n",
       "      <th>Shincheonji</th>\n",
       "      <th>GroupCases</th>\n",
       "      <th>PersonsInContact</th>\n",
       "      <th>ForeignGroupInflow</th>\n",
       "      <th>Other</th>\n",
       "      <th>New</th>\n",
       "    </tr>\n",
       "  </thead>\n",
       "  <tbody>\n",
       "    <tr>\n",
       "      <td>0</td>\n",
       "      <td>0.0</td>\n",
       "      <td>2020-03-25</td>\n",
       "      <td>Seoul</td>\n",
       "      <td>347</td>\n",
       "      <td>58</td>\n",
       "      <td>259</td>\n",
       "      <td>7</td>\n",
       "      <td>194</td>\n",
       "      <td>35</td>\n",
       "      <td>23</td>\n",
       "      <td>30</td>\n",
       "      <td>13</td>\n",
       "    </tr>\n",
       "    <tr>\n",
       "      <td>1</td>\n",
       "      <td>1.0</td>\n",
       "      <td>2020-03-25</td>\n",
       "      <td>Busan</td>\n",
       "      <td>112</td>\n",
       "      <td>2</td>\n",
       "      <td>76</td>\n",
       "      <td>11</td>\n",
       "      <td>49</td>\n",
       "      <td>16</td>\n",
       "      <td>0</td>\n",
       "      <td>34</td>\n",
       "      <td>1</td>\n",
       "    </tr>\n",
       "    <tr>\n",
       "      <td>2</td>\n",
       "      <td>2.0</td>\n",
       "      <td>2020-03-25</td>\n",
       "      <td>Daegu</td>\n",
       "      <td>6456</td>\n",
       "      <td>2</td>\n",
       "      <td>5427</td>\n",
       "      <td>4387</td>\n",
       "      <td>321</td>\n",
       "      <td>719</td>\n",
       "      <td>0</td>\n",
       "      <td>1027</td>\n",
       "      <td>14</td>\n",
       "    </tr>\n",
       "    <tr>\n",
       "      <td>3</td>\n",
       "      <td>3.0</td>\n",
       "      <td>2020-03-25</td>\n",
       "      <td>Incheon</td>\n",
       "      <td>42</td>\n",
       "      <td>6</td>\n",
       "      <td>34</td>\n",
       "      <td>2</td>\n",
       "      <td>27</td>\n",
       "      <td>3</td>\n",
       "      <td>2</td>\n",
       "      <td>2</td>\n",
       "      <td>1</td>\n",
       "    </tr>\n",
       "    <tr>\n",
       "      <td>4</td>\n",
       "      <td>4.0</td>\n",
       "      <td>2020-03-25</td>\n",
       "      <td>Gwangju</td>\n",
       "      <td>19</td>\n",
       "      <td>4</td>\n",
       "      <td>14</td>\n",
       "      <td>9</td>\n",
       "      <td>0</td>\n",
       "      <td>2</td>\n",
       "      <td>3</td>\n",
       "      <td>1</td>\n",
       "      <td>0</td>\n",
       "    </tr>\n",
       "    <tr>\n",
       "      <td>...</td>\n",
       "      <td>...</td>\n",
       "      <td>...</td>\n",
       "      <td>...</td>\n",
       "      <td>...</td>\n",
       "      <td>...</td>\n",
       "      <td>...</td>\n",
       "      <td>...</td>\n",
       "      <td>...</td>\n",
       "      <td>...</td>\n",
       "      <td>...</td>\n",
       "      <td>...</td>\n",
       "      <td>...</td>\n",
       "    </tr>\n",
       "    <tr>\n",
       "      <td>643</td>\n",
       "      <td>NaN</td>\n",
       "      <td>2020-04-29</td>\n",
       "      <td>Jeonnam</td>\n",
       "      <td>15</td>\n",
       "      <td>7</td>\n",
       "      <td>5</td>\n",
       "      <td>1</td>\n",
       "      <td>1</td>\n",
       "      <td>2</td>\n",
       "      <td>1</td>\n",
       "      <td>3</td>\n",
       "      <td>0</td>\n",
       "    </tr>\n",
       "    <tr>\n",
       "      <td>644</td>\n",
       "      <td>NaN</td>\n",
       "      <td>2020-04-29</td>\n",
       "      <td>Gyeongbuk</td>\n",
       "      <td>1365</td>\n",
       "      <td>10</td>\n",
       "      <td>1221</td>\n",
       "      <td>566</td>\n",
       "      <td>463</td>\n",
       "      <td>192</td>\n",
       "      <td>0</td>\n",
       "      <td>134</td>\n",
       "      <td>0</td>\n",
       "    </tr>\n",
       "    <tr>\n",
       "      <td>645</td>\n",
       "      <td>NaN</td>\n",
       "      <td>2020-04-29</td>\n",
       "      <td>Gyeongnam</td>\n",
       "      <td>117</td>\n",
       "      <td>14</td>\n",
       "      <td>85</td>\n",
       "      <td>32</td>\n",
       "      <td>46</td>\n",
       "      <td>6</td>\n",
       "      <td>1</td>\n",
       "      <td>18</td>\n",
       "      <td>0</td>\n",
       "    </tr>\n",
       "    <tr>\n",
       "      <td>646</td>\n",
       "      <td>NaN</td>\n",
       "      <td>2020-04-29</td>\n",
       "      <td>Jeju</td>\n",
       "      <td>13</td>\n",
       "      <td>8</td>\n",
       "      <td>1</td>\n",
       "      <td>0</td>\n",
       "      <td>0</td>\n",
       "      <td>0</td>\n",
       "      <td>1</td>\n",
       "      <td>4</td>\n",
       "      <td>0</td>\n",
       "    </tr>\n",
       "    <tr>\n",
       "      <td>647</td>\n",
       "      <td>NaN</td>\n",
       "      <td>2020-04-29</td>\n",
       "      <td>Quarantine</td>\n",
       "      <td>442</td>\n",
       "      <td>442</td>\n",
       "      <td>0</td>\n",
       "      <td>0</td>\n",
       "      <td>0</td>\n",
       "      <td>0</td>\n",
       "      <td>0</td>\n",
       "      <td>0</td>\n",
       "      <td>3</td>\n",
       "    </tr>\n",
       "  </tbody>\n",
       "</table>\n",
       "<p>648 rows × 12 columns</p>\n",
       "</div>"
      ],
      "text/plain": [
       "     index        Date    Location  Total  ForeignInflow  GroupTotal  \\\n",
       "0      0.0  2020-03-25       Seoul    347             58         259   \n",
       "1      1.0  2020-03-25       Busan    112              2          76   \n",
       "2      2.0  2020-03-25       Daegu   6456              2        5427   \n",
       "3      3.0  2020-03-25     Incheon     42              6          34   \n",
       "4      4.0  2020-03-25     Gwangju     19              4          14   \n",
       "..     ...         ...         ...    ...            ...         ...   \n",
       "643    NaN  2020-04-29     Jeonnam     15              7           5   \n",
       "644    NaN  2020-04-29   Gyeongbuk   1365             10        1221   \n",
       "645    NaN  2020-04-29   Gyeongnam    117             14          85   \n",
       "646    NaN  2020-04-29        Jeju     13              8           1   \n",
       "647    NaN  2020-04-29  Quarantine    442            442           0   \n",
       "\n",
       "     Shincheonji  GroupCases  PersonsInContact  ForeignGroupInflow  Other  New  \n",
       "0              7         194                35                  23     30   13  \n",
       "1             11          49                16                   0     34    1  \n",
       "2           4387         321               719                   0   1027   14  \n",
       "3              2          27                 3                   2      2    1  \n",
       "4              9           0                 2                   3      1    0  \n",
       "..           ...         ...               ...                 ...    ...  ...  \n",
       "643            1           1                 2                   1      3    0  \n",
       "644          566         463               192                   0    134    0  \n",
       "645           32          46                 6                   1     18    0  \n",
       "646            0           0                 0                   1      4    0  \n",
       "647            0           0                 0                   0      0    3  \n",
       "\n",
       "[648 rows x 12 columns]"
      ]
     },
     "execution_count": 26,
     "metadata": {},
     "output_type": "execute_result"
    }
   ],
   "source": [
    "query = \"\"\"\n",
    "\n",
    "    SELECT *\n",
    "        FROM domestic_group\n",
    "\n",
    "\"\"\"\n",
    "\n",
    "df = pd.read_sql(query, conn)\n",
    "df"
   ]
  },
  {
   "cell_type": "markdown",
   "metadata": {},
   "source": [
    "#### QUERY 실행을 완료한 후 MYSQL에 최종 적용"
   ]
  },
  {
   "cell_type": "code",
   "execution_count": 27,
   "metadata": {},
   "outputs": [],
   "source": [
    "conn.commit()"
   ]
  },
  {
   "cell_type": "code",
   "execution_count": null,
   "metadata": {},
   "outputs": [],
   "source": []
  }
 ],
 "metadata": {
  "kernelspec": {
   "display_name": "Python 3",
   "language": "python",
   "name": "python3"
  },
  "language_info": {
   "codemirror_mode": {
    "name": "ipython",
    "version": 3
   },
   "file_extension": ".py",
   "mimetype": "text/x-python",
   "name": "python",
   "nbconvert_exporter": "python",
   "pygments_lexer": "ipython3",
   "version": "3.7.4"
  }
 },
 "nbformat": 4,
 "nbformat_minor": 2
}

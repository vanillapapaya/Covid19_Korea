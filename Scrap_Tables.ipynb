{
 "cells": [
  {
   "cell_type": "code",
   "execution_count": 121,
   "metadata": {},
   "outputs": [],
   "source": [
    "import bs4 as bs\n",
    "import urllib.request\n",
    "import pandas as pd\n",
    "import re\n",
    "import datetime\n",
    "import pymysql"
   ]
  },
  {
   "cell_type": "markdown",
   "metadata": {},
   "source": [
    "### 1. Data Scraping "
   ]
  },
  {
   "cell_type": "markdown",
   "metadata": {},
   "source": [
    "#### url 입력 (자료가 있는 정례브리핑 url 주소 입력)"
   ]
  },
  {
   "cell_type": "code",
   "execution_count": 122,
   "metadata": {},
   "outputs": [
    {
     "name": "stdout",
     "output_type": "stream",
     "text": [
      "http://ncov.mohw.go.kr/tcmBoardView.do?brdId=&brdGubun=&dataGubun=&ncvContSeq=354184&contSeq=354184&board_id=&gubun=ALL\n"
     ]
    }
   ],
   "source": [
    "url = urllib.request.urlopen(input()).read()\n",
    "soup = bs.BeautifulSoup(url, 'lxml')"
   ]
  },
  {
   "cell_type": "markdown",
   "metadata": {},
   "source": [
    "#### pandas를 이용한 table scraping"
   ]
  },
  {
   "cell_type": "code",
   "execution_count": 123,
   "metadata": {
    "scrolled": true
   },
   "outputs": [],
   "source": [
    "dfs = pd.read_html(url, encoding = \"utf-8\", header=0)"
   ]
  },
  {
   "cell_type": "code",
   "execution_count": 124,
   "metadata": {},
   "outputs": [
    {
     "data": {
      "text/html": [
       "<div>\n",
       "<style scoped>\n",
       "    .dataframe tbody tr th:only-of-type {\n",
       "        vertical-align: middle;\n",
       "    }\n",
       "\n",
       "    .dataframe tbody tr th {\n",
       "        vertical-align: top;\n",
       "    }\n",
       "\n",
       "    .dataframe thead th {\n",
       "        text-align: right;\n",
       "    }\n",
       "</style>\n",
       "<table border=\"1\" class=\"dataframe\">\n",
       "  <thead>\n",
       "    <tr style=\"text-align: right;\">\n",
       "      <th></th>\n",
       "      <th>구분</th>\n",
       "      <th>구분.1</th>\n",
       "      <th>총계</th>\n",
       "      <th>결과 양성</th>\n",
       "      <th>결과 양성.1</th>\n",
       "      <th>결과 양성.2</th>\n",
       "      <th>결과 양성.3</th>\n",
       "      <th>검사 중</th>\n",
       "      <th>결과 음성</th>\n",
       "    </tr>\n",
       "  </thead>\n",
       "  <tbody>\n",
       "    <tr>\n",
       "      <td>0</td>\n",
       "      <td>구분</td>\n",
       "      <td>구분</td>\n",
       "      <td>총계</td>\n",
       "      <td>확진자</td>\n",
       "      <td>격리해제</td>\n",
       "      <td>격리 중</td>\n",
       "      <td>사망</td>\n",
       "      <td>검사 중</td>\n",
       "      <td>결과 음성</td>\n",
       "    </tr>\n",
       "    <tr>\n",
       "      <td>1</td>\n",
       "      <td>4. 22.(수)  0시 기준</td>\n",
       "      <td>4. 22.(수)  0시 기준</td>\n",
       "      <td>577959</td>\n",
       "      <td>10694</td>\n",
       "      <td>8277</td>\n",
       "      <td>2179</td>\n",
       "      <td>238</td>\n",
       "      <td>12121</td>\n",
       "      <td>555144</td>\n",
       "    </tr>\n",
       "    <tr>\n",
       "      <td>2</td>\n",
       "      <td>4. 23.(목)  0시 기준</td>\n",
       "      <td>4. 23.(목)  0시 기준</td>\n",
       "      <td>583971</td>\n",
       "      <td>10702</td>\n",
       "      <td>8411</td>\n",
       "      <td>2051</td>\n",
       "      <td>240</td>\n",
       "      <td>10139</td>\n",
       "      <td>563130</td>\n",
       "    </tr>\n",
       "    <tr>\n",
       "      <td>3</td>\n",
       "      <td>변동</td>\n",
       "      <td>변동</td>\n",
       "      <td>(+)6,012</td>\n",
       "      <td>(+)8</td>\n",
       "      <td>(+)134</td>\n",
       "      <td>(-)128</td>\n",
       "      <td>(+)2</td>\n",
       "      <td>(-)1,982</td>\n",
       "      <td>(+)7,986</td>\n",
       "    </tr>\n",
       "  </tbody>\n",
       "</table>\n",
       "</div>"
      ],
      "text/plain": [
       "                 구분              구분.1        총계  결과 양성 결과 양성.1 결과 양성.2  \\\n",
       "0                구분                구분        총계    확진자    격리해제    격리 중   \n",
       "1  4. 22.(수)  0시 기준  4. 22.(수)  0시 기준    577959  10694    8277    2179   \n",
       "2  4. 23.(목)  0시 기준  4. 23.(목)  0시 기준    583971  10702    8411    2051   \n",
       "3                변동                변동  (+)6,012   (+)8  (+)134  (-)128   \n",
       "\n",
       "  결과 양성.3      검사 중     결과 음성  \n",
       "0      사망      검사 중     결과 음성  \n",
       "1     238     12121    555144  \n",
       "2     240     10139    563130  \n",
       "3    (+)2  (-)1,982  (+)7,986  "
      ]
     },
     "execution_count": 124,
     "metadata": {},
     "output_type": "execute_result"
    }
   ],
   "source": [
    "dfs[0]"
   ]
  },
  {
   "cell_type": "markdown",
   "metadata": {},
   "source": [
    "#### domestic_check table에 들어갈 내용 scraping"
   ]
  },
  {
   "cell_type": "code",
   "execution_count": 126,
   "metadata": {},
   "outputs": [
    {
     "data": {
      "text/plain": [
       "['2020-04-23', 583971, 10702, 8411, 2051, 240, 10139, 563130, 8, 134]"
      ]
     },
     "execution_count": 126,
     "metadata": {},
     "output_type": "execute_result"
    }
   ],
   "source": [
    "column = dfs[0].columns\n",
    "date = dfs[0][column[0]][2]\n",
    "regex = re.compile(r'\\d.')\n",
    "date_group = regex.findall(date)\n",
    "\n",
    "for i in range(0, len(date_group)):\n",
    "    date_group[i] = int(re.sub(\"[^\\d]\", \"\", date_group[i]))\n",
    "    \n",
    "report_day = datetime.datetime(2020,date_group[0],date_group[1])\n",
    "report_day_str = report_day.strftime('%Y-%m-%d')\n",
    "\n",
    "check = []\n",
    "\n",
    "for i in range(2, 9):\n",
    "    check.append(int(dfs[0][column[i]][2]))\n",
    "check.append(int(dfs[0][column[3]][3].replace(\"(+)\", \"\")\\\n",
    "                                          .replace(\"(-)\", \"-\")\\\n",
    "                                          .replace(\",\", \"\")))\n",
    "check.append(int(dfs[0][column[4]][3].replace(\"(+)\", \"\")\\\n",
    "                                          .replace(\"(-)\", \"-\")\\\n",
    "                                          .replace(\",\", \"\")))\n",
    "check.insert(0, report_day_str)\n",
    "check"
   ]
  },
  {
   "cell_type": "markdown",
   "metadata": {},
   "source": [
    "#### domestic_sid table에 들어갈 내용 scraping"
   ]
  },
  {
   "cell_type": "code",
   "execution_count": 127,
   "metadata": {
    "scrolled": true
   },
   "outputs": [
    {
     "data": {
      "text/plain": [
       "[['2020-04-23',\n",
       "  'under quarantine',\n",
       "  2051,\n",
       "  284,\n",
       "  16,\n",
       "  784,\n",
       "  36,\n",
       "  6,\n",
       "  11,\n",
       "  6,\n",
       "  12,\n",
       "  221,\n",
       "  20,\n",
       "  5,\n",
       "  18,\n",
       "  8,\n",
       "  7,\n",
       "  220,\n",
       "  28,\n",
       "  5,\n",
       "  364],\n",
       " ['2020-04-23',\n",
       "  'end quarantine',\n",
       "  8411,\n",
       "  342,\n",
       "  116,\n",
       "  5890,\n",
       "  56,\n",
       "  24,\n",
       "  29,\n",
       "  36,\n",
       "  34,\n",
       "  424,\n",
       "  31,\n",
       "  40,\n",
       "  123,\n",
       "  9,\n",
       "  8,\n",
       "  1091,\n",
       "  89,\n",
       "  8,\n",
       "  61],\n",
       " ['2020-04-23',\n",
       "  'death',\n",
       "  240,\n",
       "  2,\n",
       "  3,\n",
       "  166,\n",
       "  0,\n",
       "  0,\n",
       "  0,\n",
       "  1,\n",
       "  0,\n",
       "  14,\n",
       "  2,\n",
       "  0,\n",
       "  0,\n",
       "  0,\n",
       "  0,\n",
       "  52,\n",
       "  0,\n",
       "  0,\n",
       "  0]]"
      ]
     },
     "execution_count": 127,
     "metadata": {},
     "output_type": "execute_result"
    }
   ],
   "source": [
    "column = dfs[1].columns\n",
    "sid = []\n",
    "\n",
    "for i in range(0, 3):\n",
    "    list_temp = []\n",
    "    for j in range(1, len(column)):\n",
    "        list_temp.append(int(dfs[1][column[j]][i]))\n",
    "    if i == 0 : list_temp.insert(0, \"under quarantine\")\n",
    "    elif i == 1 : list_temp.insert(0, \"end quarantine\")\n",
    "    elif i == 2 : list_temp.insert(0, \"death\")\n",
    "    list_temp.insert(0, report_day_str)\n",
    "    sid.append(list_temp)\n",
    "sid"
   ]
  },
  {
   "cell_type": "markdown",
   "metadata": {},
   "source": [
    "#### domestic_group table에 들어갈 내용 scraping"
   ]
  },
  {
   "cell_type": "code",
   "execution_count": 136,
   "metadata": {
    "scrolled": false
   },
   "outputs": [
    {
     "data": {
      "text/plain": [
       "[['2020-04-23', 'Seoul', 628, 247, 357, 8, 262, 18, 69, 24, 0],\n",
       " ['2020-04-23', 'Busan', 135, 22, 84, 12, 53, 18, 1, 29, 1],\n",
       " ['2020-04-23', 'Daegu', 6840, 18, 6100, 4510, 662, 924, 4, 722, 4],\n",
       " ['2020-04-23', 'Incheon', 92, 41, 47, 2, 34, 5, 6, 4, 0],\n",
       " ['2020-04-23', 'Gwangju', 30, 14, 16, 9, 0, 1, 6, 0, 0],\n",
       " ['2020-04-23', 'Daejeon', 40, 10, 21, 2, 11, 8, 0, 9, 0],\n",
       " ['2020-04-23', 'Ulsan', 43, 12, 24, 16, 1, 4, 3, 7, 0],\n",
       " ['2020-04-23', 'Sejong', 46, 3, 42, 1, 38, 3, 0, 1, 0],\n",
       " ['2020-04-23', 'Gyeonggi', 659, 152, 466, 29, 320, 55, 62, 41, 1],\n",
       " ['2020-04-23', 'Gangwon', 53, 14, 32, 17, 15, 0, 0, 7, 0],\n",
       " ['2020-04-23', 'Chungbuk', 45, 5, 32, 6, 18, 6, 2, 8, 0],\n",
       " ['2020-04-23', 'Chungnam', 141, 11, 120, 0, 118, 1, 1, 10, 0],\n",
       " ['2020-04-23', 'Jeonbuk', 17, 8, 4, 1, 3, 0, 0, 5, 0],\n",
       " ['2020-04-23', 'Jeonnam', 15, 7, 7, 1, 3, 2, 1, 1, 0],\n",
       " ['2020-04-23', 'Gyeongbuk', 1363, 10, 1219, 566, 461, 192, 0, 134, 0],\n",
       " ['2020-04-23', 'Gyeongnam', 117, 14, 85, 32, 46, 6, 1, 18, 0],\n",
       " ['2020-04-23', 'Jeju', 13, 8, 1, 0, 0, 0, 1, 4, 0],\n",
       " ['2020-04-23', 'Quarantine', 425, 425, 0, 0, 0, 0, 0, 0, 2]]"
      ]
     },
     "execution_count": 136,
     "metadata": {},
     "output_type": "execute_result"
    }
   ],
   "source": [
    "location = [\"Seoul\", \"Busan\", \"Daegu\", \"Incheon\",\n",
    " \"Gwangju\", \"Daejeon\", \"Ulsan\", \"Sejong\",\n",
    " \"Gyeonggi\", \"Gangwon\", \"Chungbuk\", \"Chungnam\",\n",
    " \"Jeonbuk\", \"Jeonnam\", \"Gyeongbuk\", \"Gyeongnam\", \"Jeju\", \"Quarantine\"]\n",
    "column = dfs[2].columns\n",
    "group = []\n",
    "\n",
    "for i in range(2, 20):\n",
    "    list_temp = []\n",
    "    for j in range(1, 12):\n",
    "        list_temp.append(int(dfs[2][column[j]][i]))\n",
    "    list_temp.insert(0, location[i-2])\n",
    "    list_temp.insert(0, report_day_str)\n",
    "    list_temp.pop(5)\n",
    "    list_temp.pop(10)\n",
    "    group.append(list_temp)\n",
    "group"
   ]
  },
  {
   "cell_type": "markdown",
   "metadata": {},
   "source": [
    "### 2. PYTHON과 MYSQL 연동"
   ]
  },
  {
   "cell_type": "code",
   "execution_count": 137,
   "metadata": {},
   "outputs": [],
   "source": [
    "conn = pymysql.connect(host = '192.168.0.2', user = 'vanillapapaya',\n",
    "                      password = 'qhans7810!', db = 'covid',\n",
    "                      charset = 'utf8')\n",
    "curs = conn.cursor()"
   ]
  },
  {
   "cell_type": "markdown",
   "metadata": {},
   "source": [
    "#### domestic_check에 column 추가"
   ]
  },
  {
   "cell_type": "code",
   "execution_count": 138,
   "metadata": {
    "scrolled": false
   },
   "outputs": [
    {
     "data": {
      "text/plain": [
       "1"
      ]
     },
     "execution_count": 138,
     "metadata": {},
     "output_type": "execute_result"
    }
   ],
   "source": [
    "query = \"\"\"\n",
    "\n",
    "        INSERT INTO domestic_check(Date, Total, Positive, EndQuarantine, UnderQuarantine, Death,\n",
    "                               UnderExamination, Negative, NewPositive, NewEndQuarantine)\n",
    "        VALUES(%s, %s, %s, %s, %s, %s, %s, %s, %s, %s)\n",
    "        \n",
    "\"\"\"\n",
    "\n",
    "curs.execute(query, check)"
   ]
  },
  {
   "cell_type": "markdown",
   "metadata": {},
   "source": [
    "#### domestic_sid에 column 추가"
   ]
  },
  {
   "cell_type": "code",
   "execution_count": 139,
   "metadata": {},
   "outputs": [
    {
     "data": {
      "text/plain": [
       "3"
      ]
     },
     "execution_count": 139,
     "metadata": {},
     "output_type": "execute_result"
    }
   ],
   "source": [
    "query = \"\"\"\n",
    "\n",
    "        INSERT INTO domestic_sid(Date, Type, Total, Seoul, Busan, Daegu, Incheon, Gwangju, Daejeon,\n",
    "                               Ulsan, Sejong, Gyeonggi, Gangwon, Chungbuk, Chungnam, Jeonbuk, Jeonnam,\n",
    "                               Gyeongbuk, Gyeongnam, Jeju, Quarantine)\n",
    "        VALUES(%s, %s, %s, %s, %s, %s, %s, %s, %s, %s, %s, %s, %s, %s, %s, %s, %s, %s, %s, %s, %s)\n",
    "\n",
    "\"\"\"\n",
    "curs.executemany(query, sid)"
   ]
  },
  {
   "cell_type": "markdown",
   "metadata": {},
   "source": [
    "#### domestic_group에 column 추가"
   ]
  },
  {
   "cell_type": "code",
   "execution_count": 140,
   "metadata": {
    "scrolled": true
   },
   "outputs": [
    {
     "data": {
      "text/plain": [
       "18"
      ]
     },
     "execution_count": 140,
     "metadata": {},
     "output_type": "execute_result"
    }
   ],
   "source": [
    "query = \"\"\"\n",
    "\n",
    "        INSERT INTO domestic_group(Date, Location, Total, ForeignInflow, GroupTotal, \n",
    "                                    Shincheonji, GroupCases, PersonsInContact, ForeignGroupInflow, Other, New)\n",
    "        VALUES(%s, %s, %s, %s, %s, %s, %s, %s, %s, %s, %s)\n",
    "\n",
    "\"\"\"\n",
    "curs.executemany(query, group)"
   ]
  },
  {
   "cell_type": "markdown",
   "metadata": {},
   "source": [
    "#### 변경된 내용 확인"
   ]
  },
  {
   "cell_type": "code",
   "execution_count": 143,
   "metadata": {
    "scrolled": true
   },
   "outputs": [
    {
     "data": {
      "text/html": [
       "<div>\n",
       "<style scoped>\n",
       "    .dataframe tbody tr th:only-of-type {\n",
       "        vertical-align: middle;\n",
       "    }\n",
       "\n",
       "    .dataframe tbody tr th {\n",
       "        vertical-align: top;\n",
       "    }\n",
       "\n",
       "    .dataframe thead th {\n",
       "        text-align: right;\n",
       "    }\n",
       "</style>\n",
       "<table border=\"1\" class=\"dataframe\">\n",
       "  <thead>\n",
       "    <tr style=\"text-align: right;\">\n",
       "      <th></th>\n",
       "      <th>index</th>\n",
       "      <th>Date</th>\n",
       "      <th>Positive</th>\n",
       "      <th>EndQuarantine</th>\n",
       "      <th>UnderQuarantine</th>\n",
       "      <th>Death</th>\n",
       "      <th>UnderExamination</th>\n",
       "      <th>Negative</th>\n",
       "      <th>Total</th>\n",
       "      <th>NewPositive</th>\n",
       "      <th>NewEndQuarantine</th>\n",
       "    </tr>\n",
       "  </thead>\n",
       "  <tbody>\n",
       "    <tr>\n",
       "      <td>0</td>\n",
       "      <td>0.0</td>\n",
       "      <td>2020-01-21</td>\n",
       "      <td>1</td>\n",
       "      <td>0</td>\n",
       "      <td>1</td>\n",
       "      <td>0</td>\n",
       "      <td>3</td>\n",
       "      <td>7</td>\n",
       "      <td>11</td>\n",
       "      <td>0</td>\n",
       "      <td>0</td>\n",
       "    </tr>\n",
       "    <tr>\n",
       "      <td>1</td>\n",
       "      <td>1.0</td>\n",
       "      <td>2020-01-24</td>\n",
       "      <td>2</td>\n",
       "      <td>0</td>\n",
       "      <td>2</td>\n",
       "      <td>0</td>\n",
       "      <td>0</td>\n",
       "      <td>25</td>\n",
       "      <td>27</td>\n",
       "      <td>1</td>\n",
       "      <td>0</td>\n",
       "    </tr>\n",
       "    <tr>\n",
       "      <td>2</td>\n",
       "      <td>2.0</td>\n",
       "      <td>2020-01-26</td>\n",
       "      <td>3</td>\n",
       "      <td>0</td>\n",
       "      <td>3</td>\n",
       "      <td>0</td>\n",
       "      <td>1</td>\n",
       "      <td>47</td>\n",
       "      <td>51</td>\n",
       "      <td>1</td>\n",
       "      <td>0</td>\n",
       "    </tr>\n",
       "    <tr>\n",
       "      <td>3</td>\n",
       "      <td>3.0</td>\n",
       "      <td>2020-01-27</td>\n",
       "      <td>4</td>\n",
       "      <td>0</td>\n",
       "      <td>4</td>\n",
       "      <td>0</td>\n",
       "      <td>1</td>\n",
       "      <td>56</td>\n",
       "      <td>61</td>\n",
       "      <td>1</td>\n",
       "      <td>0</td>\n",
       "    </tr>\n",
       "    <tr>\n",
       "      <td>4</td>\n",
       "      <td>4.0</td>\n",
       "      <td>2020-01-30</td>\n",
       "      <td>6</td>\n",
       "      <td>0</td>\n",
       "      <td>6</td>\n",
       "      <td>0</td>\n",
       "      <td>41</td>\n",
       "      <td>199</td>\n",
       "      <td>246</td>\n",
       "      <td>2</td>\n",
       "      <td>0</td>\n",
       "    </tr>\n",
       "    <tr>\n",
       "      <td>...</td>\n",
       "      <td>...</td>\n",
       "      <td>...</td>\n",
       "      <td>...</td>\n",
       "      <td>...</td>\n",
       "      <td>...</td>\n",
       "      <td>...</td>\n",
       "      <td>...</td>\n",
       "      <td>...</td>\n",
       "      <td>...</td>\n",
       "      <td>...</td>\n",
       "      <td>...</td>\n",
       "    </tr>\n",
       "    <tr>\n",
       "      <td>83</td>\n",
       "      <td>83.0</td>\n",
       "      <td>2020-04-19</td>\n",
       "      <td>10661</td>\n",
       "      <td>8042</td>\n",
       "      <td>2385</td>\n",
       "      <td>234</td>\n",
       "      <td>12243</td>\n",
       "      <td>536205</td>\n",
       "      <td>559109</td>\n",
       "      <td>8</td>\n",
       "      <td>105</td>\n",
       "    </tr>\n",
       "    <tr>\n",
       "      <td>84</td>\n",
       "      <td>84.0</td>\n",
       "      <td>2020-04-20</td>\n",
       "      <td>10674</td>\n",
       "      <td>8114</td>\n",
       "      <td>2324</td>\n",
       "      <td>236</td>\n",
       "      <td>11981</td>\n",
       "      <td>540380</td>\n",
       "      <td>563035</td>\n",
       "      <td>13</td>\n",
       "      <td>72</td>\n",
       "    </tr>\n",
       "    <tr>\n",
       "      <td>85</td>\n",
       "      <td>NaN</td>\n",
       "      <td>2020-04-21</td>\n",
       "      <td>10683</td>\n",
       "      <td>8213</td>\n",
       "      <td>2233</td>\n",
       "      <td>237</td>\n",
       "      <td>12721</td>\n",
       "      <td>547610</td>\n",
       "      <td>571014</td>\n",
       "      <td>9</td>\n",
       "      <td>99</td>\n",
       "    </tr>\n",
       "    <tr>\n",
       "      <td>86</td>\n",
       "      <td>NaN</td>\n",
       "      <td>2020-04-22</td>\n",
       "      <td>10694</td>\n",
       "      <td>8277</td>\n",
       "      <td>2179</td>\n",
       "      <td>238</td>\n",
       "      <td>12121</td>\n",
       "      <td>555144</td>\n",
       "      <td>577959</td>\n",
       "      <td>11</td>\n",
       "      <td>64</td>\n",
       "    </tr>\n",
       "    <tr>\n",
       "      <td>87</td>\n",
       "      <td>NaN</td>\n",
       "      <td>2020-04-23</td>\n",
       "      <td>10702</td>\n",
       "      <td>8411</td>\n",
       "      <td>2051</td>\n",
       "      <td>240</td>\n",
       "      <td>10139</td>\n",
       "      <td>563130</td>\n",
       "      <td>583971</td>\n",
       "      <td>8</td>\n",
       "      <td>134</td>\n",
       "    </tr>\n",
       "  </tbody>\n",
       "</table>\n",
       "<p>88 rows × 11 columns</p>\n",
       "</div>"
      ],
      "text/plain": [
       "    index        Date  Positive  EndQuarantine  UnderQuarantine  Death  \\\n",
       "0     0.0  2020-01-21         1              0                1      0   \n",
       "1     1.0  2020-01-24         2              0                2      0   \n",
       "2     2.0  2020-01-26         3              0                3      0   \n",
       "3     3.0  2020-01-27         4              0                4      0   \n",
       "4     4.0  2020-01-30         6              0                6      0   \n",
       "..    ...         ...       ...            ...              ...    ...   \n",
       "83   83.0  2020-04-19     10661           8042             2385    234   \n",
       "84   84.0  2020-04-20     10674           8114             2324    236   \n",
       "85    NaN  2020-04-21     10683           8213             2233    237   \n",
       "86    NaN  2020-04-22     10694           8277             2179    238   \n",
       "87    NaN  2020-04-23     10702           8411             2051    240   \n",
       "\n",
       "    UnderExamination  Negative   Total  NewPositive  NewEndQuarantine  \n",
       "0                  3         7      11            0                 0  \n",
       "1                  0        25      27            1                 0  \n",
       "2                  1        47      51            1                 0  \n",
       "3                  1        56      61            1                 0  \n",
       "4                 41       199     246            2                 0  \n",
       "..               ...       ...     ...          ...               ...  \n",
       "83             12243    536205  559109            8               105  \n",
       "84             11981    540380  563035           13                72  \n",
       "85             12721    547610  571014            9                99  \n",
       "86             12121    555144  577959           11                64  \n",
       "87             10139    563130  583971            8               134  \n",
       "\n",
       "[88 rows x 11 columns]"
      ]
     },
     "execution_count": 143,
     "metadata": {},
     "output_type": "execute_result"
    }
   ],
   "source": [
    "query = \"\"\"\n",
    "\n",
    "    SELECT *\n",
    "        FROM domestic_check\n",
    "\n",
    "\"\"\"\n",
    "\n",
    "df = pd.read_sql(query, conn)\n",
    "df"
   ]
  },
  {
   "cell_type": "markdown",
   "metadata": {},
   "source": [
    "#### QUERY 실행을 완료한 후 MYSQL에 최종 적용"
   ]
  },
  {
   "cell_type": "code",
   "execution_count": 144,
   "metadata": {},
   "outputs": [],
   "source": [
    "conn.commit()"
   ]
  },
  {
   "cell_type": "code",
   "execution_count": null,
   "metadata": {},
   "outputs": [],
   "source": []
  }
 ],
 "metadata": {
  "kernelspec": {
   "display_name": "Python 3",
   "language": "python",
   "name": "python3"
  },
  "language_info": {
   "codemirror_mode": {
    "name": "ipython",
    "version": 3
   },
   "file_extension": ".py",
   "mimetype": "text/x-python",
   "name": "python",
   "nbconvert_exporter": "python",
   "pygments_lexer": "ipython3",
   "version": "3.7.4"
  }
 },
 "nbformat": 4,
 "nbformat_minor": 2
}

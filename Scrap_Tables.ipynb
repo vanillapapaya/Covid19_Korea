{
 "cells": [
  {
   "cell_type": "code",
   "execution_count": 1,
   "metadata": {},
   "outputs": [],
   "source": [
    "import bs4 as bs\n",
    "import urllib.request\n",
    "import pandas as pd\n",
    "import re\n",
    "import datetime\n",
    "import pymysql"
   ]
  },
  {
   "cell_type": "markdown",
   "metadata": {},
   "source": [
    "### 1. Data Scraping "
   ]
  },
  {
   "cell_type": "markdown",
   "metadata": {},
   "source": [
    "#### url 입력 (자료가 있는 정례브리핑 url 주소 입력)"
   ]
  },
  {
   "cell_type": "code",
   "execution_count": 41,
   "metadata": {},
   "outputs": [
    {
     "name": "stdout",
     "output_type": "stream",
     "text": [
      "http://ncov.mohw.go.kr/tcmBoardView.do?brdId=&brdGubun=&dataGubun=&ncvContSeq=354322&contSeq=354322&board_id=&gubun=ALL\n"
     ]
    }
   ],
   "source": [
    "url = urllib.request.urlopen(input()).read()\n",
    "#soup = bs.BeautifulSoup(url, 'lxml')"
   ]
  },
  {
   "cell_type": "markdown",
   "metadata": {},
   "source": [
    "#### pandas를 이용한 table scraping"
   ]
  },
  {
   "cell_type": "code",
   "execution_count": 42,
   "metadata": {
    "scrolled": true
   },
   "outputs": [],
   "source": [
    "dfs = pd.read_html(url, encoding = \"utf-8\", header=0)"
   ]
  },
  {
   "cell_type": "markdown",
   "metadata": {},
   "source": [
    "#### 들쑥날쑥한 Column 수를 맞춰주기 위한 추가 코드"
   ]
  },
  {
   "cell_type": "code",
   "execution_count": 43,
   "metadata": {
    "scrolled": true
   },
   "outputs": [
    {
     "data": {
      "text/html": [
       "<div>\n",
       "<style scoped>\n",
       "    .dataframe tbody tr th:only-of-type {\n",
       "        vertical-align: middle;\n",
       "    }\n",
       "\n",
       "    .dataframe tbody tr th {\n",
       "        vertical-align: top;\n",
       "    }\n",
       "\n",
       "    .dataframe thead th {\n",
       "        text-align: right;\n",
       "    }\n",
       "</style>\n",
       "<table border=\"1\" class=\"dataframe\">\n",
       "  <thead>\n",
       "    <tr style=\"text-align: right;\">\n",
       "      <th></th>\n",
       "      <th>구분.1</th>\n",
       "      <th>총계</th>\n",
       "      <th>결과 양성</th>\n",
       "      <th>결과 양성.1</th>\n",
       "      <th>결과 양성.2</th>\n",
       "      <th>결과 양성.3</th>\n",
       "      <th>검사 중</th>\n",
       "      <th>결과 음성</th>\n",
       "    </tr>\n",
       "  </thead>\n",
       "  <tbody>\n",
       "    <tr>\n",
       "      <td>0</td>\n",
       "      <td>구분</td>\n",
       "      <td>총계</td>\n",
       "      <td>확진자</td>\n",
       "      <td>격리해제</td>\n",
       "      <td>격리 중</td>\n",
       "      <td>사망</td>\n",
       "      <td>검사 중</td>\n",
       "      <td>결과 음성</td>\n",
       "    </tr>\n",
       "    <tr>\n",
       "      <td>1</td>\n",
       "      <td>4. 30.(목)  0시 기준</td>\n",
       "      <td>619881</td>\n",
       "      <td>10765</td>\n",
       "      <td>9059</td>\n",
       "      <td>1459</td>\n",
       "      <td>247</td>\n",
       "      <td>8634</td>\n",
       "      <td>600482</td>\n",
       "    </tr>\n",
       "    <tr>\n",
       "      <td>2</td>\n",
       "      <td>5. 1.(금)  0시 기준</td>\n",
       "      <td>623069</td>\n",
       "      <td>10774</td>\n",
       "      <td>9072</td>\n",
       "      <td>1454</td>\n",
       "      <td>248</td>\n",
       "      <td>8685</td>\n",
       "      <td>603610</td>\n",
       "    </tr>\n",
       "    <tr>\n",
       "      <td>3</td>\n",
       "      <td>변동</td>\n",
       "      <td>(+)3,188</td>\n",
       "      <td>(+)9</td>\n",
       "      <td>(+)13</td>\n",
       "      <td>(-)5</td>\n",
       "      <td>(+)1</td>\n",
       "      <td>(+)51</td>\n",
       "      <td>(+)3,128</td>\n",
       "    </tr>\n",
       "  </tbody>\n",
       "</table>\n",
       "</div>"
      ],
      "text/plain": [
       "               구분.1        총계  결과 양성 결과 양성.1 결과 양성.2 결과 양성.3   검사 중     결과 음성\n",
       "0                구분        총계    확진자    격리해제    격리 중      사망   검사 중     결과 음성\n",
       "1  4. 30.(목)  0시 기준    619881  10765    9059    1459     247   8634    600482\n",
       "2   5. 1.(금)  0시 기준    623069  10774    9072    1454     248   8685    603610\n",
       "3                변동  (+)3,188   (+)9   (+)13    (-)5    (+)1  (+)51  (+)3,128"
      ]
     },
     "execution_count": 43,
     "metadata": {},
     "output_type": "execute_result"
    }
   ],
   "source": [
    "if len(dfs[0].columns) == 9 :\n",
    "    dfs[0].drop(columns=dfs[0].columns[0], inplace = True)\n",
    "    \n",
    "dfs[0]"
   ]
  },
  {
   "cell_type": "markdown",
   "metadata": {},
   "source": [
    "#### domestic_check table에 들어갈 내용 scraping"
   ]
  },
  {
   "cell_type": "code",
   "execution_count": 44,
   "metadata": {},
   "outputs": [
    {
     "data": {
      "text/plain": [
       "['2020-05-01', 623069, 10774, 9072, 1454, 248, 8685, 603610, 9, 13]"
      ]
     },
     "execution_count": 44,
     "metadata": {},
     "output_type": "execute_result"
    }
   ],
   "source": [
    "column = dfs[0].columns\n",
    "date = dfs[0][column[0]][2]\n",
    "regex = re.compile(r'\\d.')\n",
    "date_group = regex.findall(date)\n",
    "\n",
    "for i in range(0, len(date_group)):\n",
    "    date_group[i] = int(re.sub(\"[^\\d]\", \"\", date_group[i]))\n",
    "    \n",
    "report_day = datetime.datetime(2020,date_group[0],date_group[1])\n",
    "report_day_str = report_day.strftime('%Y-%m-%d')\n",
    "\n",
    "check = []\n",
    "\n",
    "for i in range(1, 8):\n",
    "    check.append(int(dfs[0][column[i]][2]))\n",
    "check.append(int(dfs[0][column[2]][3].replace(\"(+)\", \"\")\\\n",
    "                                          .replace(\"(-)\", \"-\")\\\n",
    "                                          .replace(\",\", \"\")))\n",
    "check.append(int(dfs[0][column[3]][3].replace(\"(+)\", \"\")\\\n",
    "                                          .replace(\"(-)\", \"-\")\\\n",
    "                                          .replace(\",\", \"\")))\n",
    "check.insert(0, report_day_str)\n",
    "check"
   ]
  },
  {
   "cell_type": "markdown",
   "metadata": {},
   "source": [
    "#### domestic_sid table에 들어갈 내용 scraping"
   ]
  },
  {
   "cell_type": "code",
   "execution_count": 45,
   "metadata": {
    "scrolled": true
   },
   "outputs": [
    {
     "data": {
      "text/plain": [
       "[['2020-05-01',\n",
       "  'under quarantine',\n",
       "  1454,\n",
       "  177,\n",
       "  18,\n",
       "  536,\n",
       "  25,\n",
       "  3,\n",
       "  5,\n",
       "  5,\n",
       "  7,\n",
       "  174,\n",
       "  11,\n",
       "  4,\n",
       "  15,\n",
       "  6,\n",
       "  3,\n",
       "  165,\n",
       "  19,\n",
       "  5,\n",
       "  276],\n",
       " ['2020-05-01',\n",
       "  'end quarantine',\n",
       "  9072,\n",
       "  455,\n",
       "  116,\n",
       "  6144,\n",
       "  69,\n",
       "  27,\n",
       "  35,\n",
       "  37,\n",
       "  39,\n",
       "  488,\n",
       "  40,\n",
       "  41,\n",
       "  128,\n",
       "  12,\n",
       "  12,\n",
       "  1149,\n",
       "  98,\n",
       "  8,\n",
       "  174],\n",
       " ['2020-05-01',\n",
       "  'death',\n",
       "  248,\n",
       "  2,\n",
       "  3,\n",
       "  172,\n",
       "  0,\n",
       "  0,\n",
       "  0,\n",
       "  1,\n",
       "  0,\n",
       "  16,\n",
       "  2,\n",
       "  0,\n",
       "  0,\n",
       "  0,\n",
       "  0,\n",
       "  52,\n",
       "  0,\n",
       "  0,\n",
       "  0]]"
      ]
     },
     "execution_count": 45,
     "metadata": {},
     "output_type": "execute_result"
    }
   ],
   "source": [
    "column = dfs[1].columns\n",
    "sid = []\n",
    "\n",
    "for i in range(0, 3):\n",
    "    list_temp = []\n",
    "    for j in range(1, len(column)):\n",
    "        list_temp.append(int(dfs[1][column[j]][i]))\n",
    "    if i == 0 : list_temp.insert(0, \"under quarantine\")\n",
    "    elif i == 1 : list_temp.insert(0, \"end quarantine\")\n",
    "    elif i == 2 : list_temp.insert(0, \"death\")\n",
    "    list_temp.insert(0, report_day_str)\n",
    "    sid.append(list_temp)\n",
    "sid"
   ]
  },
  {
   "cell_type": "markdown",
   "metadata": {},
   "source": [
    "#### domestic_group table에 들어갈 내용 scraping"
   ]
  },
  {
   "cell_type": "code",
   "execution_count": 46,
   "metadata": {
    "scrolled": false
   },
   "outputs": [
    {
     "ename": "ValueError",
     "evalue": "invalid literal for int() with base 10: '(1.8%)'",
     "output_type": "error",
     "traceback": [
      "\u001b[0;31m---------------------------------------------------------------------------\u001b[0m",
      "\u001b[0;31mValueError\u001b[0m                                Traceback (most recent call last)",
      "\u001b[0;32m<ipython-input-46-038315f727e0>\u001b[0m in \u001b[0;36m<module>\u001b[0;34m\u001b[0m\n\u001b[1;32m      9\u001b[0m     \u001b[0mlist_temp\u001b[0m \u001b[0;34m=\u001b[0m \u001b[0;34m[\u001b[0m\u001b[0;34m]\u001b[0m\u001b[0;34m\u001b[0m\u001b[0;34m\u001b[0m\u001b[0m\n\u001b[1;32m     10\u001b[0m     \u001b[0;32mfor\u001b[0m \u001b[0mj\u001b[0m \u001b[0;32min\u001b[0m \u001b[0mrange\u001b[0m\u001b[0;34m(\u001b[0m\u001b[0;36m1\u001b[0m\u001b[0;34m,\u001b[0m \u001b[0;36m12\u001b[0m\u001b[0;34m)\u001b[0m\u001b[0;34m:\u001b[0m\u001b[0;34m\u001b[0m\u001b[0;34m\u001b[0m\u001b[0m\n\u001b[0;32m---> 11\u001b[0;31m         \u001b[0mlist_temp\u001b[0m\u001b[0;34m.\u001b[0m\u001b[0mappend\u001b[0m\u001b[0;34m(\u001b[0m\u001b[0mint\u001b[0m\u001b[0;34m(\u001b[0m\u001b[0mdfs\u001b[0m\u001b[0;34m[\u001b[0m\u001b[0;36m2\u001b[0m\u001b[0;34m]\u001b[0m\u001b[0;34m[\u001b[0m\u001b[0mcolumn\u001b[0m\u001b[0;34m[\u001b[0m\u001b[0mj\u001b[0m\u001b[0;34m]\u001b[0m\u001b[0;34m]\u001b[0m\u001b[0;34m[\u001b[0m\u001b[0mi\u001b[0m\u001b[0;34m]\u001b[0m\u001b[0;34m)\u001b[0m\u001b[0;34m)\u001b[0m\u001b[0;34m\u001b[0m\u001b[0;34m\u001b[0m\u001b[0m\n\u001b[0m\u001b[1;32m     12\u001b[0m     \u001b[0mlist_temp\u001b[0m\u001b[0;34m.\u001b[0m\u001b[0minsert\u001b[0m\u001b[0;34m(\u001b[0m\u001b[0;36m0\u001b[0m\u001b[0;34m,\u001b[0m \u001b[0mlocation\u001b[0m\u001b[0;34m[\u001b[0m\u001b[0mi\u001b[0m\u001b[0;34m-\u001b[0m\u001b[0;36m2\u001b[0m\u001b[0;34m]\u001b[0m\u001b[0;34m)\u001b[0m\u001b[0;34m\u001b[0m\u001b[0;34m\u001b[0m\u001b[0m\n\u001b[1;32m     13\u001b[0m     \u001b[0mlist_temp\u001b[0m\u001b[0;34m.\u001b[0m\u001b[0minsert\u001b[0m\u001b[0;34m(\u001b[0m\u001b[0;36m0\u001b[0m\u001b[0;34m,\u001b[0m \u001b[0mreport_day_str\u001b[0m\u001b[0;34m)\u001b[0m\u001b[0;34m\u001b[0m\u001b[0;34m\u001b[0m\u001b[0m\n",
      "\u001b[0;31mValueError\u001b[0m: invalid literal for int() with base 10: '(1.8%)'"
     ]
    }
   ],
   "source": [
    "location = [\"Seoul\", \"Busan\", \"Daegu\", \"Incheon\",\n",
    " \"Gwangju\", \"Daejeon\", \"Ulsan\", \"Sejong\",\n",
    " \"Gyeonggi\", \"Gangwon\", \"Chungbuk\", \"Chungnam\",\n",
    " \"Jeonbuk\", \"Jeonnam\", \"Gyeongbuk\", \"Gyeongnam\", \"Jeju\", \"Quarantine\"]\n",
    "column = dfs[2].columns\n",
    "group = []\n",
    "\n",
    "for i in range(2, 20):\n",
    "    list_temp = []\n",
    "    for j in range(1, 12):\n",
    "        list_temp.append(int(dfs[2][column[j]][i]))\n",
    "    list_temp.insert(0, location[i-2])\n",
    "    list_temp.insert(0, report_day_str)\n",
    "    list_temp.pop(5)\n",
    "    list_temp.pop(10)\n",
    "    group.append(list_temp)\n",
    "group"
   ]
  },
  {
   "cell_type": "markdown",
   "metadata": {},
   "source": [
    "### 2. PYTHON과 MYSQL 연동"
   ]
  },
  {
   "cell_type": "code",
   "execution_count": 34,
   "metadata": {},
   "outputs": [],
   "source": [
    "conn = pymysql.connect(host = '192.168.0.2', user = 'vanillapapaya',\n",
    "                      password = 'qhans7810!', db = 'covid',\n",
    "                      charset = 'utf8')\n",
    "curs = conn.cursor()"
   ]
  },
  {
   "cell_type": "markdown",
   "metadata": {},
   "source": [
    "#### domestic_check에 column 추가"
   ]
  },
  {
   "cell_type": "code",
   "execution_count": 35,
   "metadata": {
    "scrolled": false
   },
   "outputs": [
    {
     "data": {
      "text/plain": [
       "1"
      ]
     },
     "execution_count": 35,
     "metadata": {},
     "output_type": "execute_result"
    }
   ],
   "source": [
    "query = \"\"\"\n",
    "\n",
    "        INSERT INTO domestic_check(Date, Total, Positive, EndQuarantine, UnderQuarantine, Death,\n",
    "                               UnderExamination, Negative, NewPositive, NewEndQuarantine)\n",
    "        VALUES(%s, %s, %s, %s, %s, %s, %s, %s, %s, %s)\n",
    "        \n",
    "\"\"\"\n",
    "\n",
    "curs.execute(query, check)"
   ]
  },
  {
   "cell_type": "markdown",
   "metadata": {},
   "source": [
    "#### domestic_sid에 column 추가"
   ]
  },
  {
   "cell_type": "code",
   "execution_count": 36,
   "metadata": {},
   "outputs": [
    {
     "data": {
      "text/plain": [
       "3"
      ]
     },
     "execution_count": 36,
     "metadata": {},
     "output_type": "execute_result"
    }
   ],
   "source": [
    "query = \"\"\"\n",
    "\n",
    "        INSERT INTO domestic_sid(Date, Type, Total, Seoul, Busan, Daegu, Incheon, Gwangju, Daejeon,\n",
    "                               Ulsan, Sejong, Gyeonggi, Gangwon, Chungbuk, Chungnam, Jeonbuk, Jeonnam,\n",
    "                               Gyeongbuk, Gyeongnam, Jeju, Quarantine)\n",
    "        VALUES(%s, %s, %s, %s, %s, %s, %s, %s, %s, %s, %s, %s, %s, %s, %s, %s, %s, %s, %s, %s, %s)\n",
    "\n",
    "\"\"\"\n",
    "curs.executemany(query, sid)"
   ]
  },
  {
   "cell_type": "markdown",
   "metadata": {},
   "source": [
    "#### domestic_group에 column 추가"
   ]
  },
  {
   "cell_type": "code",
   "execution_count": 37,
   "metadata": {
    "scrolled": true
   },
   "outputs": [
    {
     "data": {
      "text/plain": [
       "18"
      ]
     },
     "execution_count": 37,
     "metadata": {},
     "output_type": "execute_result"
    }
   ],
   "source": [
    "query = \"\"\"\n",
    "\n",
    "        INSERT INTO domestic_group(Date, Location, Total, ForeignInflow, GroupTotal, \n",
    "                                    Shincheonji, GroupCases, PersonsInContact, ForeignGroupInflow, Other, New)\n",
    "        VALUES(%s, %s, %s, %s, %s, %s, %s, %s, %s, %s, %s)\n",
    "\n",
    "\"\"\"\n",
    "curs.executemany(query, group)"
   ]
  },
  {
   "cell_type": "markdown",
   "metadata": {},
   "source": [
    "#### 변경된 내용 확인"
   ]
  },
  {
   "cell_type": "code",
   "execution_count": 39,
   "metadata": {
    "scrolled": true
   },
   "outputs": [
    {
     "data": {
      "text/html": [
       "<div>\n",
       "<style scoped>\n",
       "    .dataframe tbody tr th:only-of-type {\n",
       "        vertical-align: middle;\n",
       "    }\n",
       "\n",
       "    .dataframe tbody tr th {\n",
       "        vertical-align: top;\n",
       "    }\n",
       "\n",
       "    .dataframe thead th {\n",
       "        text-align: right;\n",
       "    }\n",
       "</style>\n",
       "<table border=\"1\" class=\"dataframe\">\n",
       "  <thead>\n",
       "    <tr style=\"text-align: right;\">\n",
       "      <th></th>\n",
       "      <th>index</th>\n",
       "      <th>Date</th>\n",
       "      <th>Positive</th>\n",
       "      <th>EndQuarantine</th>\n",
       "      <th>UnderQuarantine</th>\n",
       "      <th>Death</th>\n",
       "      <th>UnderExamination</th>\n",
       "      <th>Negative</th>\n",
       "      <th>Total</th>\n",
       "      <th>NewPositive</th>\n",
       "      <th>NewEndQuarantine</th>\n",
       "    </tr>\n",
       "  </thead>\n",
       "  <tbody>\n",
       "    <tr>\n",
       "      <td>0</td>\n",
       "      <td>0.0</td>\n",
       "      <td>2020-01-21</td>\n",
       "      <td>1</td>\n",
       "      <td>0</td>\n",
       "      <td>1</td>\n",
       "      <td>0</td>\n",
       "      <td>3</td>\n",
       "      <td>7</td>\n",
       "      <td>11</td>\n",
       "      <td>0</td>\n",
       "      <td>0</td>\n",
       "    </tr>\n",
       "    <tr>\n",
       "      <td>1</td>\n",
       "      <td>1.0</td>\n",
       "      <td>2020-01-24</td>\n",
       "      <td>2</td>\n",
       "      <td>0</td>\n",
       "      <td>2</td>\n",
       "      <td>0</td>\n",
       "      <td>0</td>\n",
       "      <td>25</td>\n",
       "      <td>27</td>\n",
       "      <td>1</td>\n",
       "      <td>0</td>\n",
       "    </tr>\n",
       "    <tr>\n",
       "      <td>2</td>\n",
       "      <td>2.0</td>\n",
       "      <td>2020-01-26</td>\n",
       "      <td>3</td>\n",
       "      <td>0</td>\n",
       "      <td>3</td>\n",
       "      <td>0</td>\n",
       "      <td>1</td>\n",
       "      <td>47</td>\n",
       "      <td>51</td>\n",
       "      <td>1</td>\n",
       "      <td>0</td>\n",
       "    </tr>\n",
       "    <tr>\n",
       "      <td>3</td>\n",
       "      <td>3.0</td>\n",
       "      <td>2020-01-27</td>\n",
       "      <td>4</td>\n",
       "      <td>0</td>\n",
       "      <td>4</td>\n",
       "      <td>0</td>\n",
       "      <td>1</td>\n",
       "      <td>56</td>\n",
       "      <td>61</td>\n",
       "      <td>1</td>\n",
       "      <td>0</td>\n",
       "    </tr>\n",
       "    <tr>\n",
       "      <td>4</td>\n",
       "      <td>4.0</td>\n",
       "      <td>2020-01-30</td>\n",
       "      <td>6</td>\n",
       "      <td>0</td>\n",
       "      <td>6</td>\n",
       "      <td>0</td>\n",
       "      <td>41</td>\n",
       "      <td>199</td>\n",
       "      <td>246</td>\n",
       "      <td>2</td>\n",
       "      <td>0</td>\n",
       "    </tr>\n",
       "    <tr>\n",
       "      <td>...</td>\n",
       "      <td>...</td>\n",
       "      <td>...</td>\n",
       "      <td>...</td>\n",
       "      <td>...</td>\n",
       "      <td>...</td>\n",
       "      <td>...</td>\n",
       "      <td>...</td>\n",
       "      <td>...</td>\n",
       "      <td>...</td>\n",
       "      <td>...</td>\n",
       "      <td>...</td>\n",
       "    </tr>\n",
       "    <tr>\n",
       "      <td>90</td>\n",
       "      <td>NaN</td>\n",
       "      <td>2020-04-26</td>\n",
       "      <td>10728</td>\n",
       "      <td>8717</td>\n",
       "      <td>1769</td>\n",
       "      <td>242</td>\n",
       "      <td>8999</td>\n",
       "      <td>578558</td>\n",
       "      <td>598285</td>\n",
       "      <td>10</td>\n",
       "      <td>82</td>\n",
       "    </tr>\n",
       "    <tr>\n",
       "      <td>91</td>\n",
       "      <td>NaN</td>\n",
       "      <td>2020-04-27</td>\n",
       "      <td>10738</td>\n",
       "      <td>8764</td>\n",
       "      <td>1731</td>\n",
       "      <td>243</td>\n",
       "      <td>8895</td>\n",
       "      <td>582027</td>\n",
       "      <td>601660</td>\n",
       "      <td>10</td>\n",
       "      <td>47</td>\n",
       "    </tr>\n",
       "    <tr>\n",
       "      <td>92</td>\n",
       "      <td>NaN</td>\n",
       "      <td>2020-04-28</td>\n",
       "      <td>10752</td>\n",
       "      <td>8854</td>\n",
       "      <td>1654</td>\n",
       "      <td>244</td>\n",
       "      <td>9203</td>\n",
       "      <td>588559</td>\n",
       "      <td>608514</td>\n",
       "      <td>14</td>\n",
       "      <td>90</td>\n",
       "    </tr>\n",
       "    <tr>\n",
       "      <td>93</td>\n",
       "      <td>NaN</td>\n",
       "      <td>2020-04-29</td>\n",
       "      <td>10761</td>\n",
       "      <td>8922</td>\n",
       "      <td>1593</td>\n",
       "      <td>246</td>\n",
       "      <td>8307</td>\n",
       "      <td>595129</td>\n",
       "      <td>614197</td>\n",
       "      <td>9</td>\n",
       "      <td>68</td>\n",
       "    </tr>\n",
       "    <tr>\n",
       "      <td>94</td>\n",
       "      <td>NaN</td>\n",
       "      <td>2020-04-30</td>\n",
       "      <td>10765</td>\n",
       "      <td>9059</td>\n",
       "      <td>1459</td>\n",
       "      <td>247</td>\n",
       "      <td>8634</td>\n",
       "      <td>600482</td>\n",
       "      <td>619881</td>\n",
       "      <td>4</td>\n",
       "      <td>137</td>\n",
       "    </tr>\n",
       "  </tbody>\n",
       "</table>\n",
       "<p>95 rows × 11 columns</p>\n",
       "</div>"
      ],
      "text/plain": [
       "    index        Date  Positive  EndQuarantine  UnderQuarantine  Death  \\\n",
       "0     0.0  2020-01-21         1              0                1      0   \n",
       "1     1.0  2020-01-24         2              0                2      0   \n",
       "2     2.0  2020-01-26         3              0                3      0   \n",
       "3     3.0  2020-01-27         4              0                4      0   \n",
       "4     4.0  2020-01-30         6              0                6      0   \n",
       "..    ...         ...       ...            ...              ...    ...   \n",
       "90    NaN  2020-04-26     10728           8717             1769    242   \n",
       "91    NaN  2020-04-27     10738           8764             1731    243   \n",
       "92    NaN  2020-04-28     10752           8854             1654    244   \n",
       "93    NaN  2020-04-29     10761           8922             1593    246   \n",
       "94    NaN  2020-04-30     10765           9059             1459    247   \n",
       "\n",
       "    UnderExamination  Negative   Total  NewPositive  NewEndQuarantine  \n",
       "0                  3         7      11            0                 0  \n",
       "1                  0        25      27            1                 0  \n",
       "2                  1        47      51            1                 0  \n",
       "3                  1        56      61            1                 0  \n",
       "4                 41       199     246            2                 0  \n",
       "..               ...       ...     ...          ...               ...  \n",
       "90              8999    578558  598285           10                82  \n",
       "91              8895    582027  601660           10                47  \n",
       "92              9203    588559  608514           14                90  \n",
       "93              8307    595129  614197            9                68  \n",
       "94              8634    600482  619881            4               137  \n",
       "\n",
       "[95 rows x 11 columns]"
      ]
     },
     "execution_count": 39,
     "metadata": {},
     "output_type": "execute_result"
    }
   ],
   "source": [
    "query = \"\"\"\n",
    "\n",
    "    SELECT *\n",
    "        FROM domestic_check\n",
    "\n",
    "\"\"\"\n",
    "\n",
    "df = pd.read_sql(query, conn)\n",
    "df"
   ]
  },
  {
   "cell_type": "markdown",
   "metadata": {},
   "source": [
    "#### QUERY 실행을 완료한 후 MYSQL에 최종 적용"
   ]
  },
  {
   "cell_type": "code",
   "execution_count": 40,
   "metadata": {},
   "outputs": [],
   "source": [
    "conn.commit()"
   ]
  },
  {
   "cell_type": "code",
   "execution_count": null,
   "metadata": {},
   "outputs": [],
   "source": []
  }
 ],
 "metadata": {
  "kernelspec": {
   "display_name": "Python 3",
   "language": "python",
   "name": "python3"
  },
  "language_info": {
   "codemirror_mode": {
    "name": "ipython",
    "version": 3
   },
   "file_extension": ".py",
   "mimetype": "text/x-python",
   "name": "python",
   "nbconvert_exporter": "python",
   "pygments_lexer": "ipython3",
   "version": "3.7.4"
  }
 },
 "nbformat": 4,
 "nbformat_minor": 2
}
